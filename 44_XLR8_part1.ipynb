{
 "cells": [
  {
   "cell_type": "markdown",
   "metadata": {},
   "source": [
    "# AFML Part 1 - Team 44_XLR8 (SIMPLE & EFFECTIVE)\n",
    "## Minimal Preprocessing - Direct Learning\n",
    "\n",
    "**Strategy**: Less preprocessing, let model learn raw patterns"
   ]
  },
  {
   "cell_type": "code",
   "execution_count": 1,
   "metadata": {},
   "outputs": [
    {
     "name": "stdout",
     "output_type": "stream",
     "text": [
      "✅ Using M2 GPU\n",
      "Device: mps\n"
     ]
    }
   ],
   "source": [
    "import numpy as np\n",
    "import pandas as pd\n",
    "import torch\n",
    "import torch.nn as nn\n",
    "import torch.optim as optim\n",
    "from torch.utils.data import TensorDataset, DataLoader\n",
    "from sklearn.model_selection import train_test_split\n",
    "from tqdm import tqdm\n",
    "\n",
    "np.random.seed(42)\n",
    "torch.manual_seed(42)\n",
    "\n",
    "if torch.backends.mps.is_available():\n",
    "    device = torch.device('mps')\n",
    "    print(\"✅ Using M2 GPU\")\n",
    "elif torch.cuda.is_available():\n",
    "    device = torch.device('cuda')\n",
    "    print(\"✅ Using CUDA GPU\")\n",
    "else:\n",
    "    device = torch.device('cpu')\n",
    "    print(\"⚠️  Using CPU\")\n",
    "\n",
    "print(f\"Device: {device}\")"
   ]
  },
  {
   "cell_type": "markdown",
   "metadata": {},
   "source": [
    "## Load Data"
   ]
  },
  {
   "cell_type": "code",
   "execution_count": 2,
   "metadata": {},
   "outputs": [
    {
     "name": "stdout",
     "output_type": "stream",
     "text": [
      "Loading...\n",
      "Clean: (1024146, 20)\n",
      "Noisy: (1024146, 20)\n",
      "Test: (12732, 20)\n"
     ]
    }
   ],
   "source": [
    "print(\"Loading...\")\n",
    "train_clean = pd.read_csv('train-part1-clean.csv').values.astype(np.float32)\n",
    "train_noise = pd.read_csv('train-part1-noise.csv').values.astype(np.float32)\n",
    "test_data = pd.read_csv('test-part1.csv').values.astype(np.float32)\n",
    "\n",
    "print(f\"Clean: {train_clean.shape}\")\n",
    "print(f\"Noisy: {train_noise.shape}\")\n",
    "print(f\"Test: {test_data.shape}\")"
   ]
  },
  {
   "cell_type": "markdown",
   "metadata": {},
   "source": [
    "## Minimal Preprocessing - NO SCALING!"
   ]
  },
  {
   "cell_type": "code",
   "execution_count": 3,
   "metadata": {},
   "outputs": [
    {
     "name": "stdout",
     "output_type": "stream",
     "text": [
      "Train: (870524, 20), Val: (153622, 20)\n",
      "✓ No scaling - direct learning\n"
     ]
    }
   ],
   "source": [
    "# Just split - NO SCALING\n",
    "X_train, X_val, y_train, y_val = train_test_split(\n",
    "    train_noise, train_clean, test_size=0.15, random_state=42\n",
    ")\n",
    "\n",
    "print(f\"Train: {X_train.shape}, Val: {X_val.shape}\")\n",
    "\n",
    "# Direct to tensors - NO SCALING\n",
    "X_train_t = torch.FloatTensor(X_train)\n",
    "y_train_t = torch.FloatTensor(y_train)\n",
    "X_val_t = torch.FloatTensor(X_val)\n",
    "y_val_t = torch.FloatTensor(y_val)\n",
    "test_t = torch.FloatTensor(test_data)\n",
    "\n",
    "print(\"✓ No scaling - direct learning\")"
   ]
  },
  {
   "cell_type": "markdown",
   "metadata": {},
   "source": [
    "## Simple Deep Network"
   ]
  },
  {
   "cell_type": "code",
   "execution_count": 4,
   "metadata": {},
   "outputs": [
    {
     "name": "stdout",
     "output_type": "stream",
     "text": [
      "Params: 536,084\n"
     ]
    }
   ],
   "source": [
    "class SimpleDenoiser(nn.Module):\n",
    "    def __init__(self, input_dim=20):\n",
    "        super().__init__()\n",
    "        self.net = nn.Sequential(\n",
    "            nn.Linear(input_dim, 256),\n",
    "            nn.ReLU(),\n",
    "            nn.Dropout(0.1),\n",
    "            \n",
    "            nn.Linear(256, 512),\n",
    "            nn.ReLU(),\n",
    "            nn.Dropout(0.1),\n",
    "            \n",
    "            nn.Linear(512, 512),\n",
    "            nn.ReLU(),\n",
    "            nn.Dropout(0.1),\n",
    "            \n",
    "            nn.Linear(512, 256),\n",
    "            nn.ReLU(),\n",
    "            nn.Dropout(0.1),\n",
    "            \n",
    "            nn.Linear(256, input_dim)\n",
    "        )\n",
    "    \n",
    "    def forward(self, x):\n",
    "        return self.net(x)\n",
    "\n",
    "model = SimpleDenoiser().to(device)\n",
    "print(f\"Params: {sum(p.numel() for p in model.parameters()):,}\")"
   ]
  },
  {
   "cell_type": "markdown",
   "metadata": {},
   "source": [
    "## Training"
   ]
  },
  {
   "cell_type": "code",
   "execution_count": 5,
   "metadata": {},
   "outputs": [
    {
     "name": "stdout",
     "output_type": "stream",
     "text": [
      "Batches/epoch: 425\n"
     ]
    }
   ],
   "source": [
    "BATCH_SIZE = 2048\n",
    "NUM_EPOCHS = 100\n",
    "LR = 0.0005\n",
    "\n",
    "train_loader = DataLoader(\n",
    "    TensorDataset(X_train_t, y_train_t),\n",
    "    batch_size=BATCH_SIZE, shuffle=True, drop_last=True\n",
    ")\n",
    "\n",
    "val_loader = DataLoader(\n",
    "    TensorDataset(X_val_t, y_val_t),\n",
    "    batch_size=BATCH_SIZE, shuffle=False\n",
    ")\n",
    "\n",
    "criterion = nn.MSELoss()\n",
    "optimizer = optim.Adam(model.parameters(), lr=LR)\n",
    "scheduler = optim.lr_scheduler.ReduceLROnPlateau(optimizer, mode='min', factor=0.5, patience=10)\n",
    "\n",
    "print(f\"Batches/epoch: {len(train_loader)}\")"
   ]
  },
  {
   "cell_type": "code",
   "execution_count": 6,
   "metadata": {},
   "outputs": [
    {
     "name": "stderr",
     "output_type": "stream",
     "text": [
      "                                                                                "
     ]
    },
    {
     "name": "stdout",
     "output_type": "stream",
     "text": [
      "✓ Epoch 1 - Train: 28.710021, Val: 0.491605 [SAVED]\n"
     ]
    },
    {
     "name": "stderr",
     "output_type": "stream",
     "text": [
      "                                                                                "
     ]
    },
    {
     "name": "stdout",
     "output_type": "stream",
     "text": [
      "✓ Epoch 2 - Train: 33.092116, Val: 0.102141 [SAVED]\n"
     ]
    },
    {
     "name": "stderr",
     "output_type": "stream",
     "text": [
      "                                                                                "
     ]
    },
    {
     "name": "stdout",
     "output_type": "stream",
     "text": [
      "✓ Epoch 3 - Train: 49.109563, Val: 0.012213 [SAVED]\n"
     ]
    },
    {
     "name": "stderr",
     "output_type": "stream",
     "text": [
      "                                                                                "
     ]
    },
    {
     "name": "stdout",
     "output_type": "stream",
     "text": [
      "✓ Epoch 4 - Train: 2.569019, Val: 0.007890 [SAVED]\n"
     ]
    },
    {
     "name": "stderr",
     "output_type": "stream",
     "text": [
      "                                                                                "
     ]
    },
    {
     "name": "stdout",
     "output_type": "stream",
     "text": [
      "✓ Epoch 5 - Train: 0.022936, Val: 0.007820 [SAVED]\n"
     ]
    },
    {
     "name": "stderr",
     "output_type": "stream",
     "text": [
      "                                                                                "
     ]
    },
    {
     "name": "stdout",
     "output_type": "stream",
     "text": [
      "✓ Epoch 6 - Train: 0.041828, Val: 0.007792 [SAVED]\n"
     ]
    },
    {
     "name": "stderr",
     "output_type": "stream",
     "text": [
      "                                                                                "
     ]
    },
    {
     "name": "stdout",
     "output_type": "stream",
     "text": [
      "✓ Epoch 8 - Train: 0.405200, Val: 0.007755 [SAVED]\n"
     ]
    },
    {
     "name": "stderr",
     "output_type": "stream",
     "text": [
      "                                                                                "
     ]
    },
    {
     "name": "stdout",
     "output_type": "stream",
     "text": [
      "✓ Epoch 10 - Train: 0.280058, Val: 0.007671 [SAVED]\n"
     ]
    },
    {
     "name": "stderr",
     "output_type": "stream",
     "text": [
      "                                                                                "
     ]
    },
    {
     "name": "stdout",
     "output_type": "stream",
     "text": [
      "✓ Epoch 11 - Train: 0.007438, Val: 0.007553 [SAVED]\n"
     ]
    },
    {
     "name": "stderr",
     "output_type": "stream",
     "text": [
      "                                                                                "
     ]
    },
    {
     "name": "stdout",
     "output_type": "stream",
     "text": [
      "✓ Epoch 12 - Train: 0.007596, Val: 0.007435 [SAVED]\n"
     ]
    },
    {
     "name": "stderr",
     "output_type": "stream",
     "text": [
      "                                                                                "
     ]
    },
    {
     "name": "stdout",
     "output_type": "stream",
     "text": [
      "✓ Epoch 13 - Train: 0.007236, Val: 0.007293 [SAVED]\n"
     ]
    },
    {
     "name": "stderr",
     "output_type": "stream",
     "text": [
      "                                                                                "
     ]
    },
    {
     "name": "stdout",
     "output_type": "stream",
     "text": [
      "✓ Epoch 14 - Train: 0.641259, Val: 0.007167 [SAVED]\n"
     ]
    },
    {
     "name": "stderr",
     "output_type": "stream",
     "text": [
      "                                                                                "
     ]
    },
    {
     "name": "stdout",
     "output_type": "stream",
     "text": [
      "✓ Epoch 15 - Train: 0.007040, Val: 0.007041 [SAVED]\n"
     ]
    },
    {
     "name": "stderr",
     "output_type": "stream",
     "text": [
      "                                                                                "
     ]
    },
    {
     "name": "stdout",
     "output_type": "stream",
     "text": [
      "✓ Epoch 16 - Train: 0.006985, Val: 0.006913 [SAVED]\n"
     ]
    },
    {
     "name": "stderr",
     "output_type": "stream",
     "text": [
      "                                                                                "
     ]
    },
    {
     "name": "stdout",
     "output_type": "stream",
     "text": [
      "✓ Epoch 17 - Train: 0.067595, Val: 0.006824 [SAVED]\n"
     ]
    },
    {
     "name": "stderr",
     "output_type": "stream",
     "text": [
      "                                                                                "
     ]
    },
    {
     "name": "stdout",
     "output_type": "stream",
     "text": [
      "✓ Epoch 18 - Train: 0.007626, Val: 0.006717 [SAVED]\n"
     ]
    },
    {
     "name": "stderr",
     "output_type": "stream",
     "text": [
      "                                                                                "
     ]
    },
    {
     "name": "stdout",
     "output_type": "stream",
     "text": [
      "✓ Epoch 19 - Train: 0.007840, Val: 0.006608 [SAVED]\n"
     ]
    },
    {
     "name": "stderr",
     "output_type": "stream",
     "text": [
      "                                                                                "
     ]
    },
    {
     "name": "stdout",
     "output_type": "stream",
     "text": [
      "✓ Epoch 20 - Train: 0.006600, Val: 0.006466 [SAVED]\n"
     ]
    },
    {
     "name": "stderr",
     "output_type": "stream",
     "text": [
      "                                                                                "
     ]
    },
    {
     "name": "stdout",
     "output_type": "stream",
     "text": [
      "✓ Epoch 21 - Train: 0.006489, Val: 0.006361 [SAVED]\n"
     ]
    },
    {
     "name": "stderr",
     "output_type": "stream",
     "text": [
      "                                                                                "
     ]
    },
    {
     "name": "stdout",
     "output_type": "stream",
     "text": [
      "✓ Epoch 22 - Train: 0.006506, Val: 0.006271 [SAVED]\n"
     ]
    },
    {
     "name": "stderr",
     "output_type": "stream",
     "text": [
      "                                                                                "
     ]
    },
    {
     "name": "stdout",
     "output_type": "stream",
     "text": [
      "✓ Epoch 23 - Train: 0.006362, Val: 0.006197 [SAVED]\n"
     ]
    },
    {
     "name": "stderr",
     "output_type": "stream",
     "text": [
      "                                                                                "
     ]
    },
    {
     "name": "stdout",
     "output_type": "stream",
     "text": [
      "✓ Epoch 24 - Train: 0.006256, Val: 0.006119 [SAVED]\n"
     ]
    },
    {
     "name": "stderr",
     "output_type": "stream",
     "text": [
      "                                                                                "
     ]
    },
    {
     "name": "stdout",
     "output_type": "stream",
     "text": [
      "✓ Epoch 26 - Train: 0.009092, Val: 0.006093 [SAVED]\n"
     ]
    },
    {
     "name": "stderr",
     "output_type": "stream",
     "text": [
      "                                                                                "
     ]
    },
    {
     "name": "stdout",
     "output_type": "stream",
     "text": [
      "✓ Epoch 27 - Train: 0.006140, Val: 0.006031 [SAVED]\n"
     ]
    },
    {
     "name": "stderr",
     "output_type": "stream",
     "text": [
      "                                                                                "
     ]
    },
    {
     "name": "stdout",
     "output_type": "stream",
     "text": [
      "✓ Epoch 28 - Train: 0.006230, Val: 0.005985 [SAVED]\n"
     ]
    },
    {
     "name": "stderr",
     "output_type": "stream",
     "text": [
      "                                                                                "
     ]
    },
    {
     "name": "stdout",
     "output_type": "stream",
     "text": [
      "✓ Epoch 29 - Train: 0.006105, Val: 0.005927 [SAVED]\n"
     ]
    },
    {
     "name": "stderr",
     "output_type": "stream",
     "text": [
      "                                                                                "
     ]
    },
    {
     "name": "stdout",
     "output_type": "stream",
     "text": [
      "✓ Epoch 30 - Train: 0.006447, Val: 0.005902 [SAVED]\n"
     ]
    },
    {
     "name": "stderr",
     "output_type": "stream",
     "text": [
      "                                                                                "
     ]
    },
    {
     "name": "stdout",
     "output_type": "stream",
     "text": [
      "✓ Epoch 31 - Train: 0.005964, Val: 0.005861 [SAVED]\n"
     ]
    },
    {
     "name": "stderr",
     "output_type": "stream",
     "text": [
      "                                                                                "
     ]
    },
    {
     "name": "stdout",
     "output_type": "stream",
     "text": [
      "✓ Epoch 32 - Train: 0.005959, Val: 0.005813 [SAVED]\n"
     ]
    },
    {
     "name": "stderr",
     "output_type": "stream",
     "text": [
      "                                                                                "
     ]
    },
    {
     "name": "stdout",
     "output_type": "stream",
     "text": [
      "✓ Epoch 35 - Train: 11.032786, Val: 0.005803 [SAVED]\n"
     ]
    },
    {
     "name": "stderr",
     "output_type": "stream",
     "text": [
      "                                                                                "
     ]
    },
    {
     "name": "stdout",
     "output_type": "stream",
     "text": [
      "✓ Epoch 36 - Train: 0.005832, Val: 0.005773 [SAVED]\n"
     ]
    },
    {
     "name": "stderr",
     "output_type": "stream",
     "text": [
      "                                                                                "
     ]
    },
    {
     "name": "stdout",
     "output_type": "stream",
     "text": [
      "✓ Epoch 37 - Train: 0.006256, Val: 0.005734 [SAVED]\n"
     ]
    },
    {
     "name": "stderr",
     "output_type": "stream",
     "text": [
      "                                                                                "
     ]
    },
    {
     "name": "stdout",
     "output_type": "stream",
     "text": [
      "  Epoch 40 - Train: 0.023219, Val: 0.005836\n"
     ]
    },
    {
     "name": "stderr",
     "output_type": "stream",
     "text": [
      "                                                                                "
     ]
    },
    {
     "name": "stdout",
     "output_type": "stream",
     "text": [
      "✓ Epoch 44 - Train: 0.005735, Val: 0.005722 [SAVED]\n"
     ]
    },
    {
     "name": "stderr",
     "output_type": "stream",
     "text": [
      "                                                                                "
     ]
    },
    {
     "name": "stdout",
     "output_type": "stream",
     "text": [
      "✓ Epoch 45 - Train: 0.005667, Val: 0.005678 [SAVED]\n"
     ]
    },
    {
     "name": "stderr",
     "output_type": "stream",
     "text": [
      "                                                                                "
     ]
    },
    {
     "name": "stdout",
     "output_type": "stream",
     "text": [
      "✓ Epoch 47 - Train: 0.005647, Val: 0.005677 [SAVED]\n"
     ]
    },
    {
     "name": "stderr",
     "output_type": "stream",
     "text": [
      "                                                                                "
     ]
    },
    {
     "name": "stdout",
     "output_type": "stream",
     "text": [
      "✓ Epoch 49 - Train: 0.005640, Val: 0.005661 [SAVED]\n"
     ]
    },
    {
     "name": "stderr",
     "output_type": "stream",
     "text": [
      "                                                                                "
     ]
    },
    {
     "name": "stdout",
     "output_type": "stream",
     "text": [
      "✓ Epoch 50 - Train: 0.005588, Val: 0.005627 [SAVED]\n"
     ]
    },
    {
     "name": "stderr",
     "output_type": "stream",
     "text": [
      "                                                                                "
     ]
    },
    {
     "name": "stdout",
     "output_type": "stream",
     "text": [
      "✓ Epoch 52 - Train: 0.005577, Val: 0.005600 [SAVED]\n"
     ]
    },
    {
     "name": "stderr",
     "output_type": "stream",
     "text": [
      "                                                                                "
     ]
    },
    {
     "name": "stdout",
     "output_type": "stream",
     "text": [
      "✓ Epoch 53 - Train: 0.006439, Val: 0.005531 [SAVED]\n"
     ]
    },
    {
     "name": "stderr",
     "output_type": "stream",
     "text": [
      "                                                                                "
     ]
    },
    {
     "name": "stdout",
     "output_type": "stream",
     "text": [
      "  Epoch 60 - Train: 0.005437, Val: 0.005539\n"
     ]
    },
    {
     "name": "stderr",
     "output_type": "stream",
     "text": [
      "                                                                                "
     ]
    },
    {
     "name": "stdout",
     "output_type": "stream",
     "text": [
      "✓ Epoch 62 - Train: 0.005433, Val: 0.005529 [SAVED]\n"
     ]
    },
    {
     "name": "stderr",
     "output_type": "stream",
     "text": [
      "                                                                                "
     ]
    },
    {
     "name": "stdout",
     "output_type": "stream",
     "text": [
      "✓ Epoch 64 - Train: 0.067545, Val: 0.005504 [SAVED]\n"
     ]
    },
    {
     "name": "stderr",
     "output_type": "stream",
     "text": [
      "                                                                                "
     ]
    },
    {
     "name": "stdout",
     "output_type": "stream",
     "text": [
      "✓ Epoch 66 - Train: 0.091006, Val: 0.005503 [SAVED]\n"
     ]
    },
    {
     "name": "stderr",
     "output_type": "stream",
     "text": [
      "                                                                                "
     ]
    },
    {
     "name": "stdout",
     "output_type": "stream",
     "text": [
      "  Epoch 70 - Train: 0.012385, Val: 0.005562\n"
     ]
    },
    {
     "name": "stderr",
     "output_type": "stream",
     "text": [
      "                                                                                "
     ]
    },
    {
     "name": "stdout",
     "output_type": "stream",
     "text": [
      "✓ Epoch 72 - Train: 0.005418, Val: 0.005483 [SAVED]\n"
     ]
    },
    {
     "name": "stderr",
     "output_type": "stream",
     "text": [
      "                                                                                "
     ]
    },
    {
     "name": "stdout",
     "output_type": "stream",
     "text": [
      "✓ Epoch 73 - Train: 0.014199, Val: 0.005477 [SAVED]\n"
     ]
    },
    {
     "name": "stderr",
     "output_type": "stream",
     "text": [
      "                                                                                "
     ]
    },
    {
     "name": "stdout",
     "output_type": "stream",
     "text": [
      "✓ Epoch 76 - Train: 2.033127, Val: 0.005465 [SAVED]\n"
     ]
    },
    {
     "name": "stderr",
     "output_type": "stream",
     "text": [
      "                                                                                "
     ]
    },
    {
     "name": "stdout",
     "output_type": "stream",
     "text": [
      "✓ Epoch 80 - Train: 0.005377, Val: 0.005459 [SAVED]\n"
     ]
    },
    {
     "name": "stderr",
     "output_type": "stream",
     "text": [
      "                                                                                "
     ]
    },
    {
     "name": "stdout",
     "output_type": "stream",
     "text": [
      "✓ Epoch 82 - Train: 0.005354, Val: 0.005454 [SAVED]\n"
     ]
    },
    {
     "name": "stderr",
     "output_type": "stream",
     "text": [
      "                                                                                "
     ]
    },
    {
     "name": "stdout",
     "output_type": "stream",
     "text": [
      "✓ Epoch 83 - Train: 0.005286, Val: 0.005440 [SAVED]\n"
     ]
    },
    {
     "name": "stderr",
     "output_type": "stream",
     "text": [
      "                                                                                "
     ]
    },
    {
     "name": "stdout",
     "output_type": "stream",
     "text": [
      "  Epoch 90 - Train: 0.027373, Val: 0.005465\n"
     ]
    },
    {
     "name": "stderr",
     "output_type": "stream",
     "text": [
      "                                                                                "
     ]
    },
    {
     "name": "stdout",
     "output_type": "stream",
     "text": [
      "  Epoch 100 - Train: 0.005370, Val: 0.005455\n",
      "\n",
      "Best val: 0.005440\n"
     ]
    }
   ],
   "source": [
    "best_val_loss = float('inf')\n",
    "train_losses, val_losses = [], []\n",
    "patience = 0\n",
    "MAX_PATIENCE = 20\n",
    "\n",
    "for epoch in range(NUM_EPOCHS):\n",
    "    # Train\n",
    "    model.train()\n",
    "    train_loss = 0\n",
    "    \n",
    "    for X_batch, y_batch in tqdm(train_loader, desc=f\"Epoch {epoch+1}\", leave=False):\n",
    "        X_batch = X_batch.to(device)\n",
    "        y_batch = y_batch.to(device)\n",
    "        \n",
    "        pred = model(X_batch)\n",
    "        loss = criterion(pred, y_batch)\n",
    "        \n",
    "        optimizer.zero_grad()\n",
    "        loss.backward()\n",
    "        optimizer.step()\n",
    "        \n",
    "        train_loss += loss.item()\n",
    "    \n",
    "    train_loss /= len(train_loader)\n",
    "    train_losses.append(train_loss)\n",
    "    \n",
    "    # Validate\n",
    "    model.eval()\n",
    "    val_loss = 0\n",
    "    \n",
    "    with torch.no_grad():\n",
    "        for X_batch, y_batch in val_loader:\n",
    "            X_batch = X_batch.to(device)\n",
    "            y_batch = y_batch.to(device)\n",
    "            pred = model(X_batch)\n",
    "            loss = criterion(pred, y_batch)\n",
    "            val_loss += loss.item()\n",
    "    \n",
    "    val_loss /= len(val_loader)\n",
    "    val_losses.append(val_loss)\n",
    "    \n",
    "    scheduler.step(val_loss)\n",
    "    \n",
    "    if val_loss < best_val_loss:\n",
    "        best_val_loss = val_loss\n",
    "        torch.save(model.state_dict(), 'best.pth')\n",
    "        patience = 0\n",
    "        print(f\"✓ Epoch {epoch+1} - Train: {train_loss:.6f}, Val: {val_loss:.6f} [SAVED]\")\n",
    "    else:\n",
    "        patience += 1\n",
    "        if (epoch+1) % 10 == 0:\n",
    "            print(f\"  Epoch {epoch+1} - Train: {train_loss:.6f}, Val: {val_loss:.6f}\")\n",
    "    \n",
    "    if patience >= MAX_PATIENCE:\n",
    "        print(f\"Early stop at epoch {epoch+1}\")\n",
    "        break\n",
    "\n",
    "print(f\"\\nBest val: {best_val_loss:.6f}\")"
   ]
  },
  {
   "cell_type": "markdown",
   "metadata": {},
   "source": [
    "## Predict - NO INVERSE TRANSFORM!"
   ]
  },
  {
   "cell_type": "code",
   "execution_count": 7,
   "metadata": {},
   "outputs": [
    {
     "name": "stdout",
     "output_type": "stream",
     "text": [
      "✓ Predictions done (no scaling issues!)\n"
     ]
    }
   ],
   "source": [
    "model.load_state_dict(torch.load('best.pth'))\n",
    "model.eval()\n",
    "\n",
    "with torch.no_grad():\n",
    "    test_t_device = test_t.to(device)\n",
    "    X_val_t_device = X_val_t.to(device)\n",
    "    \n",
    "    test_pred = model(test_t_device).cpu().numpy()\n",
    "    val_pred = model(X_val_t_device).cpu().numpy()\n",
    "\n",
    "print(\"✓ Predictions done (no scaling issues!)\")"
   ]
  },
  {
   "cell_type": "markdown",
   "metadata": {},
   "source": [
    "## Calculate NMSE"
   ]
  },
  {
   "cell_type": "code",
   "execution_count": 8,
   "metadata": {},
   "outputs": [
    {
     "name": "stdout",
     "output_type": "stream",
     "text": [
      "\n",
      "======================================================================\n",
      "VALIDATION NMSE: 0.660506\n",
      "Target: < 0.3\n",
      "======================================================================\n",
      "⚠️  NMSE > 0.3 (got 0.6605)\n",
      "\n",
      "MSE: 0.00550971\n",
      "Variance: 0.00834165\n",
      "Val Loss: 0.005440\n"
     ]
    }
   ],
   "source": [
    "mse = np.mean((y_val - val_pred) ** 2)\n",
    "variance = np.var(y_val)\n",
    "nmse = mse / variance\n",
    "\n",
    "print(f\"\\n{'='*70}\")\n",
    "print(f\"VALIDATION NMSE: {nmse:.6f}\")\n",
    "print(f\"Target: < 0.3\")\n",
    "print(f\"{'='*70}\")\n",
    "\n",
    "if nmse < 0.3:\n",
    "    print(f\"✅ SUCCESS! NMSE < 0.3!\")\n",
    "else:\n",
    "    print(f\"⚠️  NMSE > 0.3 (got {nmse:.4f})\")\n",
    "\n",
    "print(f\"\\nMSE: {mse:.8f}\")\n",
    "print(f\"Variance: {variance:.8f}\")\n",
    "print(f\"Val Loss: {best_val_loss:.6f}\")"
   ]
  },
  {
   "cell_type": "markdown",
   "metadata": {},
   "source": [
    "## Save"
   ]
  },
  {
   "cell_type": "code",
   "execution_count": 9,
   "metadata": {},
   "outputs": [
    {
     "name": "stdout",
     "output_type": "stream",
     "text": [
      "\n",
      "✓ Saved: submission.csv\n",
      "Shape: (12732, 20)\n"
     ]
    },
    {
     "data": {
      "text/html": [
       "<div>\n",
       "<style scoped>\n",
       "    .dataframe tbody tr th:only-of-type {\n",
       "        vertical-align: middle;\n",
       "    }\n",
       "\n",
       "    .dataframe tbody tr th {\n",
       "        vertical-align: top;\n",
       "    }\n",
       "\n",
       "    .dataframe thead th {\n",
       "        text-align: right;\n",
       "    }\n",
       "</style>\n",
       "<table border=\"1\" class=\"dataframe\">\n",
       "  <thead>\n",
       "    <tr style=\"text-align: right;\">\n",
       "      <th></th>\n",
       "      <th>0</th>\n",
       "      <th>1</th>\n",
       "      <th>2</th>\n",
       "      <th>3</th>\n",
       "      <th>4</th>\n",
       "      <th>5</th>\n",
       "      <th>6</th>\n",
       "      <th>7</th>\n",
       "      <th>8</th>\n",
       "      <th>9</th>\n",
       "      <th>10</th>\n",
       "      <th>11</th>\n",
       "      <th>12</th>\n",
       "      <th>13</th>\n",
       "      <th>14</th>\n",
       "      <th>15</th>\n",
       "      <th>16</th>\n",
       "      <th>17</th>\n",
       "      <th>18</th>\n",
       "      <th>19</th>\n",
       "    </tr>\n",
       "  </thead>\n",
       "  <tbody>\n",
       "    <tr>\n",
       "      <th>0</th>\n",
       "      <td>-0.00172</td>\n",
       "      <td>-0.002596</td>\n",
       "      <td>-0.000655</td>\n",
       "      <td>0.001774</td>\n",
       "      <td>0.001092</td>\n",
       "      <td>-0.000734</td>\n",
       "      <td>0.000045</td>\n",
       "      <td>-0.003458</td>\n",
       "      <td>-0.001137</td>\n",
       "      <td>-0.001472</td>\n",
       "      <td>-0.000980</td>\n",
       "      <td>-0.000502</td>\n",
       "      <td>0.000867</td>\n",
       "      <td>0.000742</td>\n",
       "      <td>-0.000162</td>\n",
       "      <td>-0.000373</td>\n",
       "      <td>0.000605</td>\n",
       "      <td>-0.001125</td>\n",
       "      <td>0.000307</td>\n",
       "      <td>-0.000615</td>\n",
       "    </tr>\n",
       "    <tr>\n",
       "      <th>1</th>\n",
       "      <td>-0.00172</td>\n",
       "      <td>-0.002596</td>\n",
       "      <td>-0.000655</td>\n",
       "      <td>0.001774</td>\n",
       "      <td>0.001092</td>\n",
       "      <td>-0.000734</td>\n",
       "      <td>0.000045</td>\n",
       "      <td>-0.003458</td>\n",
       "      <td>-0.001137</td>\n",
       "      <td>-0.001472</td>\n",
       "      <td>-0.000980</td>\n",
       "      <td>-0.000502</td>\n",
       "      <td>0.000867</td>\n",
       "      <td>0.000742</td>\n",
       "      <td>-0.000162</td>\n",
       "      <td>-0.000373</td>\n",
       "      <td>0.000605</td>\n",
       "      <td>-0.001125</td>\n",
       "      <td>0.000307</td>\n",
       "      <td>-0.000615</td>\n",
       "    </tr>\n",
       "    <tr>\n",
       "      <th>2</th>\n",
       "      <td>-0.00172</td>\n",
       "      <td>-0.002596</td>\n",
       "      <td>-0.000655</td>\n",
       "      <td>0.001774</td>\n",
       "      <td>0.001092</td>\n",
       "      <td>-0.000734</td>\n",
       "      <td>0.000045</td>\n",
       "      <td>-0.003458</td>\n",
       "      <td>-0.001137</td>\n",
       "      <td>-0.001472</td>\n",
       "      <td>-0.000980</td>\n",
       "      <td>-0.000502</td>\n",
       "      <td>0.000867</td>\n",
       "      <td>0.000742</td>\n",
       "      <td>-0.000162</td>\n",
       "      <td>-0.000373</td>\n",
       "      <td>0.000605</td>\n",
       "      <td>-0.001125</td>\n",
       "      <td>0.000307</td>\n",
       "      <td>-0.000615</td>\n",
       "    </tr>\n",
       "    <tr>\n",
       "      <th>3</th>\n",
       "      <td>0.26301</td>\n",
       "      <td>0.145393</td>\n",
       "      <td>0.243615</td>\n",
       "      <td>0.053296</td>\n",
       "      <td>-0.279245</td>\n",
       "      <td>-0.112771</td>\n",
       "      <td>-0.076462</td>\n",
       "      <td>-0.122751</td>\n",
       "      <td>0.023449</td>\n",
       "      <td>-0.214903</td>\n",
       "      <td>-0.165237</td>\n",
       "      <td>-0.008274</td>\n",
       "      <td>0.310792</td>\n",
       "      <td>0.271425</td>\n",
       "      <td>0.169486</td>\n",
       "      <td>0.262723</td>\n",
       "      <td>-0.080393</td>\n",
       "      <td>0.160953</td>\n",
       "      <td>0.215827</td>\n",
       "      <td>0.100731</td>\n",
       "    </tr>\n",
       "    <tr>\n",
       "      <th>4</th>\n",
       "      <td>0.10650</td>\n",
       "      <td>0.099117</td>\n",
       "      <td>0.104591</td>\n",
       "      <td>0.094104</td>\n",
       "      <td>0.114814</td>\n",
       "      <td>0.112055</td>\n",
       "      <td>0.111086</td>\n",
       "      <td>0.110382</td>\n",
       "      <td>0.110044</td>\n",
       "      <td>0.085864</td>\n",
       "      <td>0.085943</td>\n",
       "      <td>0.087301</td>\n",
       "      <td>0.090668</td>\n",
       "      <td>0.094860</td>\n",
       "      <td>0.095644</td>\n",
       "      <td>0.084256</td>\n",
       "      <td>0.093697</td>\n",
       "      <td>0.081759</td>\n",
       "      <td>0.057556</td>\n",
       "      <td>0.087962</td>\n",
       "    </tr>\n",
       "  </tbody>\n",
       "</table>\n",
       "</div>"
      ],
      "text/plain": [
       "        0         1         2         3         4         5         6   \\\n",
       "0 -0.00172 -0.002596 -0.000655  0.001774  0.001092 -0.000734  0.000045   \n",
       "1 -0.00172 -0.002596 -0.000655  0.001774  0.001092 -0.000734  0.000045   \n",
       "2 -0.00172 -0.002596 -0.000655  0.001774  0.001092 -0.000734  0.000045   \n",
       "3  0.26301  0.145393  0.243615  0.053296 -0.279245 -0.112771 -0.076462   \n",
       "4  0.10650  0.099117  0.104591  0.094104  0.114814  0.112055  0.111086   \n",
       "\n",
       "         7         8         9         10        11        12        13  \\\n",
       "0 -0.003458 -0.001137 -0.001472 -0.000980 -0.000502  0.000867  0.000742   \n",
       "1 -0.003458 -0.001137 -0.001472 -0.000980 -0.000502  0.000867  0.000742   \n",
       "2 -0.003458 -0.001137 -0.001472 -0.000980 -0.000502  0.000867  0.000742   \n",
       "3 -0.122751  0.023449 -0.214903 -0.165237 -0.008274  0.310792  0.271425   \n",
       "4  0.110382  0.110044  0.085864  0.085943  0.087301  0.090668  0.094860   \n",
       "\n",
       "         14        15        16        17        18        19  \n",
       "0 -0.000162 -0.000373  0.000605 -0.001125  0.000307 -0.000615  \n",
       "1 -0.000162 -0.000373  0.000605 -0.001125  0.000307 -0.000615  \n",
       "2 -0.000162 -0.000373  0.000605 -0.001125  0.000307 -0.000615  \n",
       "3  0.169486  0.262723 -0.080393  0.160953  0.215827  0.100731  \n",
       "4  0.095644  0.084256  0.093697  0.081759  0.057556  0.087962  "
      ]
     },
     "execution_count": 9,
     "metadata": {},
     "output_type": "execute_result"
    }
   ],
   "source": [
    "submission = pd.DataFrame(test_pred)\n",
    "submission.to_csv('submission.csv', index=False)\n",
    "print(\"\\n✓ Saved: submission.csv\")\n",
    "print(f\"Shape: {submission.shape}\")\n",
    "submission.head()"
   ]
  },
  {
   "cell_type": "markdown",
   "metadata": {},
   "source": [
    "## Plot"
   ]
  },
  {
   "cell_type": "code",
   "execution_count": 10,
   "metadata": {},
   "outputs": [
    {
     "data": {
      "image/png": "[encoded data removed]",
      "text/plain": [
       "<Figure size 1000x400 with 1 Axes>"
      ]
     },
     "metadata": {},
     "output_type": "display_data"
    },
    {
     "name": "stdout",
     "output_type": "stream",
     "text": [
      "\n",
      "Final: NMSE = 0.660506\n"
     ]
    }
   ],
   "source": [
    "import matplotlib.pyplot as plt\n",
    "\n",
    "plt.figure(figsize=(10, 4))\n",
    "plt.plot(train_losses, label='Train')\n",
    "plt.plot(val_losses, label='Val')\n",
    "plt.xlabel('Epoch')\n",
    "plt.ylabel('Loss (MSE)')\n",
    "plt.title(f'Training (NMSE={nmse:.4f})')\n",
    "plt.legend()\n",
    "plt.grid(True, alpha=0.3)\n",
    "plt.show()\n",
    "\n",
    "print(f\"\\nFinal: NMSE = {nmse:.6f}\")"
   ]
  },
  {
   "cell_type": "code",
   "execution_count": null,
   "metadata": {},
   "outputs": [],
   "source": []
  }
 ],
 "metadata": {
  "kernelspec": {
   "display_name": "Python 3 (ipykernel)",
   "language": "python",
   "name": "python3"
  },
  "language_info": {
   "codemirror_mode": {
    "name": "ipython",
    "version": 3
   },
   "file_extension": ".py",
   "mimetype": "text/x-python",
   "name": "python",
   "nbconvert_exporter": "python",
   "pygments_lexer": "ipython3",
   "version": "3.10.16"
  }
 },
 "nbformat": 4,
 "nbformat_minor": 4
}
