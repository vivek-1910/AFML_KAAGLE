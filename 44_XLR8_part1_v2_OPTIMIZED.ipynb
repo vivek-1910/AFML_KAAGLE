{
 "cells": [
  {
   "cell_type": "markdown",
   "metadata": {},
   "source": [
    "# AFML Part 1 - Team 44_XLR8 (v2 OPTIMIZED)\n",
    "## Target: Val Loss < 0.005 and NMSE < 0.3\n",
    "\n",
    "**Strategy**: NO normalization + Ensemble + Deeper network"
   ]
  },
  {
   "cell_type": "code",
   "execution_count": 1,
   "metadata": {},
   "outputs": [
    {
     "name": "stdout",
     "output_type": "stream",
     "text": [
      "✅ M2 GPU\n",
      "Device: mps\n"
     ]
    }
   ],
   "source": [
    "import numpy as np\n",
    "import pandas as pd\n",
    "import torch\n",
    "import torch.nn as nn\n",
    "import torch.optim as optim\n",
    "from torch.utils.data import TensorDataset, DataLoader\n",
    "from sklearn.model_selection import train_test_split\n",
    "from tqdm import tqdm\n",
    "\n",
    "np.random.seed(42)\n",
    "torch.manual_seed(42)\n",
    "\n",
    "if torch.backends.mps.is_available():\n",
    "    device = torch.device('mps')\n",
    "    print(\"✅ M2 GPU\")\n",
    "elif torch.cuda.is_available():\n",
    "    device = torch.device('cuda')\n",
    "    print(\"✅ CUDA GPU\")\n",
    "else:\n",
    "    device = torch.device('cpu')\n",
    "    print(\"⚠️  CPU\")\n",
    "\n",
    "print(f\"Device: {device}\")"
   ]
  },
  {
   "cell_type": "code",
   "execution_count": 2,
   "metadata": {},
   "outputs": [
    {
     "name": "stdout",
     "output_type": "stream",
     "text": [
      "Loading...\n",
      "Clean: (1024146, 20)\n",
      "Noisy: (1024146, 20)\n",
      "Test: (12732, 20)\n"
     ]
    }
   ],
   "source": [
    "print(\"Loading...\")\n",
    "train_clean = pd.read_csv('train-part1-clean.csv').values.astype(np.float32)\n",
    "train_noise = pd.read_csv('train-part1-noise.csv').values.astype(np.float32)\n",
    "test_data = pd.read_csv('test-part1.csv').values.astype(np.float32)\n",
    "\n",
    "print(f\"Clean: {train_clean.shape}\")\n",
    "print(f\"Noisy: {train_noise.shape}\")\n",
    "print(f\"Test: {test_data.shape}\")"
   ]
  },
  {
   "cell_type": "markdown",
   "metadata": {},
   "source": [
    "## NO NORMALIZATION - Direct Learning"
   ]
  },
  {
   "cell_type": "code",
   "execution_count": 3,
   "metadata": {},
   "outputs": [
    {
     "name": "stdout",
     "output_type": "stream",
     "text": [
      "Train: (870524, 20), Val: (153622, 20)\n",
      "✓ No normalization - raw data\n"
     ]
    }
   ],
   "source": [
    "# Split only - NO NORMALIZATION\n",
    "X_train, X_val, y_train, y_val = train_test_split(\n",
    "    train_noise, train_clean, test_size=0.15, random_state=42\n",
    ")\n",
    "\n",
    "print(f\"Train: {X_train.shape}, Val: {X_val.shape}\")\n",
    "\n",
    "# Direct to tensors\n",
    "X_train_t = torch.FloatTensor(X_train)\n",
    "y_train_t = torch.FloatTensor(y_train)\n",
    "X_val_t = torch.FloatTensor(X_val)\n",
    "y_val_t = torch.FloatTensor(y_val)\n",
    "test_t = torch.FloatTensor(test_data)\n",
    "\n",
    "print(\"✓ No normalization - raw data\")"
   ]
  },
  {
   "cell_type": "markdown",
   "metadata": {},
   "source": [
    "## Deeper Model with More Capacity"
   ]
  },
  {
   "cell_type": "code",
   "execution_count": 4,
   "metadata": {},
   "outputs": [
    {
     "name": "stdout",
     "output_type": "stream",
     "text": [
      "Creating ensemble of 5 models...\n",
      "Params per model: 2,509,588\n",
      "Total params: 12,547,940\n"
     ]
    }
   ],
   "source": [
    "class DeepDenoiser(nn.Module):\n",
    "    def __init__(self, input_dim=20):\n",
    "        super().__init__()\n",
    "        \n",
    "        self.encoder = nn.Sequential(\n",
    "            nn.Linear(input_dim, 512),\n",
    "            nn.ReLU(),\n",
    "            nn.Dropout(0.05),\n",
    "            \n",
    "            nn.Linear(512, 1024),\n",
    "            nn.ReLU(),\n",
    "            nn.Dropout(0.05),\n",
    "            \n",
    "            nn.Linear(1024, 1024),\n",
    "            nn.ReLU(),\n",
    "            nn.Dropout(0.05),\n",
    "            \n",
    "            nn.Linear(1024, 512),\n",
    "            nn.ReLU(),\n",
    "            nn.Dropout(0.05)\n",
    "        )\n",
    "        \n",
    "        self.decoder = nn.Sequential(\n",
    "            nn.Linear(512, 512),\n",
    "            nn.ReLU(),\n",
    "            nn.Dropout(0.05),\n",
    "            \n",
    "            nn.Linear(512, 256),\n",
    "            nn.ReLU(),\n",
    "            nn.Dropout(0.05),\n",
    "            \n",
    "            nn.Linear(256, input_dim)\n",
    "        )\n",
    "    \n",
    "    def forward(self, x):\n",
    "        x = self.encoder(x)\n",
    "        x = self.decoder(x)\n",
    "        return x\n",
    "\n",
    "print(\"Creating ensemble of 5 models...\")\n",
    "models = [DeepDenoiser().to(device) for _ in range(5)]\n",
    "print(f\"Params per model: {sum(p.numel() for p in models[0].parameters()):,}\")\n",
    "print(f\"Total params: {sum(p.numel() for p in models[0].parameters()) * 5:,}\")"
   ]
  },
  {
   "cell_type": "markdown",
   "metadata": {},
   "source": [
    "## Training Setup - Aggressive"
   ]
  },
  {
   "cell_type": "code",
   "execution_count": 5,
   "metadata": {},
   "outputs": [
    {
     "name": "stdout",
     "output_type": "stream",
     "text": [
      "Batches/epoch: 212\n"
     ]
    }
   ],
   "source": [
    "BATCH_SIZE = 4096  # Larger batches\n",
    "NUM_EPOCHS = 120   # More epochs\n",
    "LR = 0.0003        # Lower LR for stability\n",
    "\n",
    "train_loader = DataLoader(\n",
    "    TensorDataset(X_train_t, y_train_t),\n",
    "    batch_size=BATCH_SIZE, shuffle=True, drop_last=True\n",
    ")\n",
    "\n",
    "val_loader = DataLoader(\n",
    "    TensorDataset(X_val_t, y_val_t),\n",
    "    batch_size=BATCH_SIZE, shuffle=False\n",
    ")\n",
    "\n",
    "criterion = nn.MSELoss()\n",
    "\n",
    "optimizers = [optim.AdamW(model.parameters(), lr=LR, weight_decay=1e-6) for model in models]\n",
    "schedulers = [optim.lr_scheduler.ReduceLROnPlateau(opt, mode='min', factor=0.5, patience=8) for opt in optimizers]\n",
    "\n",
    "print(f\"Batches/epoch: {len(train_loader)}\")"
   ]
  },
  {
   "cell_type": "markdown",
   "metadata": {},
   "source": [
    "## Train Ensemble"
   ]
  },
  {
   "cell_type": "code",
   "execution_count": null,
   "metadata": {},
   "outputs": [
    {
     "name": "stderr",
     "output_type": "stream",
     "text": [
      "                                                                                "
     ]
    },
    {
     "name": "stdout",
     "output_type": "stream",
     "text": [
      "✓ Epoch 1 - Train: 0.231945, Val: 0.008442 [SAVED: [0, 1, 2, 3, 4]]\n"
     ]
    },
    {
     "name": "stderr",
     "output_type": "stream",
     "text": [
      "                                                                                "
     ]
    },
    {
     "name": "stdout",
     "output_type": "stream",
     "text": [
      "✓ Epoch 2 - Train: 0.136236, Val: 0.008277 [SAVED: [0, 2, 4]]\n"
     ]
    },
    {
     "name": "stderr",
     "output_type": "stream",
     "text": [
      "                                                                                "
     ]
    },
    {
     "name": "stdout",
     "output_type": "stream",
     "text": [
      "✓ Epoch 3 - Train: 0.044845, Val: 0.007919 [SAVED: [0, 1, 2, 3]]\n"
     ]
    },
    {
     "name": "stderr",
     "output_type": "stream",
     "text": [
      "                                                                                "
     ]
    },
    {
     "name": "stdout",
     "output_type": "stream",
     "text": [
      "✓ Epoch 4 - Train: 0.035777, Val: 0.007838 [SAVED: [1, 2, 3, 4]]\n"
     ]
    },
    {
     "name": "stderr",
     "output_type": "stream",
     "text": [
      "                                                                                "
     ]
    },
    {
     "name": "stdout",
     "output_type": "stream",
     "text": [
      "✓ Epoch 5 - Train: 0.504682, Val: 0.008116 [SAVED: [0, 1, 3, 4]]\n"
     ]
    },
    {
     "name": "stderr",
     "output_type": "stream",
     "text": [
      "                                                                                "
     ]
    },
    {
     "name": "stdout",
     "output_type": "stream",
     "text": [
      "✓ Epoch 6 - Train: 113.599108, Val: 0.015857 [SAVED: [0, 3]]\n"
     ]
    },
    {
     "name": "stderr",
     "output_type": "stream",
     "text": [
      "                                                                                "
     ]
    },
    {
     "name": "stdout",
     "output_type": "stream",
     "text": [
      "✓ Epoch 7 - Train: 0.108174, Val: 0.014354 [SAVED: [2]]\n"
     ]
    },
    {
     "name": "stderr",
     "output_type": "stream",
     "text": [
      "                                                                                "
     ]
    },
    {
     "name": "stdout",
     "output_type": "stream",
     "text": [
      "✓ Epoch 8 - Train: 0.015869, Val: 0.007667 [SAVED: [0, 1, 2, 4]]\n"
     ]
    },
    {
     "name": "stderr",
     "output_type": "stream",
     "text": [
      "                                                                                "
     ]
    },
    {
     "name": "stdout",
     "output_type": "stream",
     "text": [
      "✓ Epoch 9 - Train: 0.223254, Val: 0.007688 [SAVED: [2]]\n"
     ]
    },
    {
     "name": "stderr",
     "output_type": "stream",
     "text": [
      "                                                                                "
     ]
    },
    {
     "name": "stdout",
     "output_type": "stream",
     "text": [
      "✓ Epoch 10 - Train: 0.007413, Val: 0.008345 [SAVED: [1, 4]]\n"
     ]
    },
    {
     "name": "stderr",
     "output_type": "stream",
     "text": [
      "                                                                                "
     ]
    },
    {
     "name": "stdout",
     "output_type": "stream",
     "text": [
      "✓ Epoch 11 - Train: 0.008442, Val: 0.007643 [SAVED: [1, 2, 3]]\n"
     ]
    },
    {
     "name": "stderr",
     "output_type": "stream",
     "text": [
      "                                                                                "
     ]
    },
    {
     "name": "stdout",
     "output_type": "stream",
     "text": [
      "✓ Epoch 12 - Train: 0.040640, Val: 0.007618 [SAVED: [2, 3, 4]]\n"
     ]
    },
    {
     "name": "stderr",
     "output_type": "stream",
     "text": [
      "                                                                                "
     ]
    },
    {
     "name": "stdout",
     "output_type": "stream",
     "text": [
      "✓ Epoch 13 - Train: 0.008058, Val: 0.007633 [SAVED: [0]]\n"
     ]
    },
    {
     "name": "stderr",
     "output_type": "stream",
     "text": [
      "                                                                                "
     ]
    },
    {
     "name": "stdout",
     "output_type": "stream",
     "text": [
      "✓ Epoch 14 - Train: 0.373274, Val: 0.007570 [SAVED: [0, 1, 3]]\n"
     ]
    },
    {
     "name": "stderr",
     "output_type": "stream",
     "text": [
      "                                                                                "
     ]
    },
    {
     "name": "stdout",
     "output_type": "stream",
     "text": [
      "✓ Epoch 15 - Train: 0.011023, Val: 0.007596 [SAVED: [2, 4]]\n"
     ]
    },
    {
     "name": "stderr",
     "output_type": "stream",
     "text": [
      "                                                                                "
     ]
    },
    {
     "name": "stdout",
     "output_type": "stream",
     "text": [
      "✓ Epoch 16 - Train: 3.317978, Val: 0.007549 [SAVED: [2, 3]]\n"
     ]
    },
    {
     "name": "stderr",
     "output_type": "stream",
     "text": [
      "                                                                                "
     ]
    },
    {
     "name": "stdout",
     "output_type": "stream",
     "text": [
      "✓ Epoch 17 - Train: 0.017521, Val: 0.007578 [SAVED: [2]]\n"
     ]
    },
    {
     "name": "stderr",
     "output_type": "stream",
     "text": [
      "                                                                                "
     ]
    },
    {
     "name": "stdout",
     "output_type": "stream",
     "text": [
      "✓ Epoch 18 - Train: 0.032852, Val: 0.007481 [SAVED: [2, 4]]\n"
     ]
    },
    {
     "name": "stderr",
     "output_type": "stream",
     "text": [
      "                                                                                "
     ]
    },
    {
     "name": "stdout",
     "output_type": "stream",
     "text": [
      "✓ Epoch 19 - Train: 0.008722, Val: 0.007458 [SAVED: [0, 2, 4]]\n"
     ]
    },
    {
     "name": "stderr",
     "output_type": "stream",
     "text": [
      "                                                                                "
     ]
    },
    {
     "name": "stdout",
     "output_type": "stream",
     "text": [
      "✓ Epoch 20 - Train: 0.008212, Val: 0.007414 [SAVED: [0, 1, 3, 4]]\n"
     ]
    },
    {
     "name": "stderr",
     "output_type": "stream",
     "text": [
      "                                                                                "
     ]
    },
    {
     "name": "stdout",
     "output_type": "stream",
     "text": [
      "✓ Epoch 21 - Train: 0.012658, Val: 0.007380 [SAVED: [0, 1, 4]]\n"
     ]
    },
    {
     "name": "stderr",
     "output_type": "stream",
     "text": [
      "                                                                                "
     ]
    },
    {
     "name": "stdout",
     "output_type": "stream",
     "text": [
      "✓ Epoch 22 - Train: 0.008688, Val: 0.007340 [SAVED: [0, 1, 2, 3]]\n"
     ]
    },
    {
     "name": "stderr",
     "output_type": "stream",
     "text": [
      "                                                                                "
     ]
    },
    {
     "name": "stdout",
     "output_type": "stream",
     "text": [
      "✓ Epoch 23 - Train: 0.016036, Val: 0.007307 [SAVED: [2, 3, 4]]\n"
     ]
    },
    {
     "name": "stderr",
     "output_type": "stream",
     "text": [
      "                                                                                "
     ]
    },
    {
     "name": "stdout",
     "output_type": "stream",
     "text": [
      "✓ Epoch 24 - Train: 0.058727, Val: 0.007279 [SAVED: [0, 1, 2, 4]]\n"
     ]
    },
    {
     "name": "stderr",
     "output_type": "stream",
     "text": [
      "                                                                                "
     ]
    },
    {
     "name": "stdout",
     "output_type": "stream",
     "text": [
      "✓ Epoch 25 - Train: 0.016329, Val: 0.007245 [SAVED: [1, 2, 3, 4]]\n"
     ]
    },
    {
     "name": "stderr",
     "output_type": "stream",
     "text": [
      "                                                                                "
     ]
    },
    {
     "name": "stdout",
     "output_type": "stream",
     "text": [
      "✓ Epoch 26 - Train: 0.007295, Val: 0.007179 [SAVED: [0, 1, 3, 4]]\n"
     ]
    },
    {
     "name": "stderr",
     "output_type": "stream",
     "text": [
      "                                                                                "
     ]
    },
    {
     "name": "stdout",
     "output_type": "stream",
     "text": [
      "✓ Epoch 27 - Train: 0.006954, Val: 0.007139 [SAVED: [0, 1, 2, 3]]\n"
     ]
    },
    {
     "name": "stderr",
     "output_type": "stream",
     "text": [
      "                                                                                "
     ]
    },
    {
     "name": "stdout",
     "output_type": "stream",
     "text": [
      "✓ Epoch 28 - Train: 2.003858, Val: 0.007150 [SAVED: [0, 1]]\n"
     ]
    },
    {
     "name": "stderr",
     "output_type": "stream",
     "text": [
      "                                                                                "
     ]
    },
    {
     "name": "stdout",
     "output_type": "stream",
     "text": [
      "✓ Epoch 29 - Train: 0.121811, Val: 0.007123 [SAVED: [1, 2, 3, 4]]\n"
     ]
    },
    {
     "name": "stderr",
     "output_type": "stream",
     "text": [
      "                                                                                "
     ]
    },
    {
     "name": "stdout",
     "output_type": "stream",
     "text": [
      "✓ Epoch 30 - Train: 0.044006, Val: 0.007196 [SAVED: [0, 1, 4]]\n"
     ]
    },
    {
     "name": "stderr",
     "output_type": "stream",
     "text": [
      "                                                                                "
     ]
    },
    {
     "name": "stdout",
     "output_type": "stream",
     "text": [
      "✓ Epoch 31 - Train: 0.006851, Val: 0.006984 [SAVED: [0, 2, 4]]\n"
     ]
    },
    {
     "name": "stderr",
     "output_type": "stream",
     "text": [
      "                                                                                "
     ]
    },
    {
     "name": "stdout",
     "output_type": "stream",
     "text": [
      "✓ Epoch 32 - Train: 0.008753, Val: 0.007079 [SAVED: [3]]\n"
     ]
    },
    {
     "name": "stderr",
     "output_type": "stream",
     "text": [
      "                                                                                "
     ]
    },
    {
     "name": "stdout",
     "output_type": "stream",
     "text": [
      "✓ Epoch 33 - Train: 6.657283, Val: 0.006883 [SAVED: [0, 2, 3, 4]]\n"
     ]
    },
    {
     "name": "stderr",
     "output_type": "stream",
     "text": [
      "                                                                                "
     ]
    },
    {
     "name": "stdout",
     "output_type": "stream",
     "text": [
      "✓ Epoch 34 - Train: 70.191359, Val: 0.006817 [SAVED: [0, 1, 2, 3, 4]]\n"
     ]
    },
    {
     "name": "stderr",
     "output_type": "stream",
     "text": [
      "                                                                                "
     ]
    },
    {
     "name": "stdout",
     "output_type": "stream",
     "text": [
      "✓ Epoch 35 - Train: 0.013536, Val: 0.006777 [SAVED: [0, 2, 3, 4]]\n"
     ]
    },
    {
     "name": "stderr",
     "output_type": "stream",
     "text": [
      "                                                                                "
     ]
    },
    {
     "name": "stdout",
     "output_type": "stream",
     "text": [
      "✓ Epoch 36 - Train: 0.006630, Val: 0.006715 [SAVED: [0, 1, 2, 3, 4]]\n"
     ]
    },
    {
     "name": "stderr",
     "output_type": "stream",
     "text": [
      "                                                                                "
     ]
    },
    {
     "name": "stdout",
     "output_type": "stream",
     "text": [
      "✓ Epoch 37 - Train: 78.245703, Val: 0.006628 [SAVED: [0, 1, 2, 3, 4]]\n"
     ]
    },
    {
     "name": "stderr",
     "output_type": "stream",
     "text": [
      "                                                                                "
     ]
    },
    {
     "name": "stdout",
     "output_type": "stream",
     "text": [
      "✓ Epoch 38 - Train: 0.183471, Val: 0.006629 [SAVED: [0, 1, 2, 4]]\n"
     ]
    },
    {
     "name": "stderr",
     "output_type": "stream",
     "text": [
      "                                                                                "
     ]
    },
    {
     "name": "stdout",
     "output_type": "stream",
     "text": [
      "✓ Epoch 39 - Train: 0.006407, Val: 0.006549 [SAVED: [0, 1, 2, 3, 4]]\n"
     ]
    },
    {
     "name": "stderr",
     "output_type": "stream",
     "text": [
      "                                                                                "
     ]
    },
    {
     "name": "stdout",
     "output_type": "stream",
     "text": [
      "✓ Epoch 40 - Train: 0.082357, Val: 0.006483 [SAVED: [0, 1, 2, 3, 4]]\n"
     ]
    },
    {
     "name": "stderr",
     "output_type": "stream",
     "text": [
      "                                                                                "
     ]
    },
    {
     "name": "stdout",
     "output_type": "stream",
     "text": [
      "✓ Epoch 41 - Train: 0.006333, Val: 0.006469 [SAVED: [0, 2, 3]]\n"
     ]
    },
    {
     "name": "stderr",
     "output_type": "stream",
     "text": [
      "                                                                                "
     ]
    },
    {
     "name": "stdout",
     "output_type": "stream",
     "text": [
      "✓ Epoch 42 - Train: 0.072264, Val: 0.006348 [SAVED: [0, 2, 3, 4]]\n"
     ]
    },
    {
     "name": "stderr",
     "output_type": "stream",
     "text": [
      "                                                                                "
     ]
    },
    {
     "name": "stdout",
     "output_type": "stream",
     "text": [
      "✓ Epoch 43 - Train: 0.007261, Val: 0.006363 [SAVED: [1, 2, 3]]\n"
     ]
    },
    {
     "name": "stderr",
     "output_type": "stream",
     "text": [
      "                                                                                "
     ]
    },
    {
     "name": "stdout",
     "output_type": "stream",
     "text": [
      "✓ Epoch 44 - Train: 0.006588, Val: 0.006304 [SAVED: [1, 3, 4]]\n"
     ]
    },
    {
     "name": "stderr",
     "output_type": "stream",
     "text": [
      "                                                                                "
     ]
    },
    {
     "name": "stdout",
     "output_type": "stream",
     "text": [
      "✓ Epoch 45 - Train: 0.007041, Val: 0.006246 [SAVED: [0, 1, 3, 4]]\n"
     ]
    },
    {
     "name": "stderr",
     "output_type": "stream",
     "text": [
      "                                                                                "
     ]
    },
    {
     "name": "stdout",
     "output_type": "stream",
     "text": [
      "✓ Epoch 46 - Train: 0.006328, Val: 0.006158 [SAVED: [1, 2, 3, 4]]\n"
     ]
    },
    {
     "name": "stderr",
     "output_type": "stream",
     "text": [
      "                                                                                "
     ]
    },
    {
     "name": "stdout",
     "output_type": "stream",
     "text": [
      "✓ Epoch 47 - Train: 0.007077, Val: 0.006139 [SAVED: [0, 4]]\n"
     ]
    },
    {
     "name": "stderr",
     "output_type": "stream",
     "text": [
      "                                                                                "
     ]
    },
    {
     "name": "stdout",
     "output_type": "stream",
     "text": [
      "✓ Epoch 48 - Train: 0.238716, Val: 0.006085 [SAVED: [0, 3, 4]]\n"
     ]
    },
    {
     "name": "stderr",
     "output_type": "stream",
     "text": [
      "                                                                                "
     ]
    },
    {
     "name": "stdout",
     "output_type": "stream",
     "text": [
      "✓ Epoch 49 - Train: 0.022889, Val: 0.006048 [SAVED: [0, 1, 2, 4]]\n"
     ]
    },
    {
     "name": "stderr",
     "output_type": "stream",
     "text": [
      "                                                                                "
     ]
    },
    {
     "name": "stdout",
     "output_type": "stream",
     "text": [
      "✓ Epoch 50 - Train: 0.005851, Val: 0.005946 [SAVED: [0, 1, 2, 3, 4]]\n"
     ]
    },
    {
     "name": "stderr",
     "output_type": "stream",
     "text": [
      "                                                                                "
     ]
    },
    {
     "name": "stdout",
     "output_type": "stream",
     "text": [
      "✓ Epoch 51 - Train: 3.984014, Val: 0.005904 [SAVED: [0, 1, 2, 3, 4]]\n"
     ]
    },
    {
     "name": "stderr",
     "output_type": "stream",
     "text": [
      "                                                                                "
     ]
    },
    {
     "name": "stdout",
     "output_type": "stream",
     "text": [
      "✓ Epoch 52 - Train: 0.007194, Val: 0.005839 [SAVED: [1, 2, 3, 4]]\n"
     ]
    },
    {
     "name": "stderr",
     "output_type": "stream",
     "text": [
      "                                                                                "
     ]
    },
    {
     "name": "stdout",
     "output_type": "stream",
     "text": [
      "✓ Epoch 53 - Train: 0.005722, Val: 0.005798 [SAVED: [0, 1, 2, 3, 4]]\n"
     ]
    },
    {
     "name": "stderr",
     "output_type": "stream",
     "text": [
      "                                                                                "
     ]
    },
    {
     "name": "stdout",
     "output_type": "stream",
     "text": [
      "✓ Epoch 54 - Train: 0.720651, Val: 0.005728 [SAVED: [0, 1, 2, 3, 4]]\n"
     ]
    },
    {
     "name": "stderr",
     "output_type": "stream",
     "text": [
      "                                                                                "
     ]
    },
    {
     "name": "stdout",
     "output_type": "stream",
     "text": [
      "✓ Epoch 55 - Train: 1.405102, Val: 0.005689 [SAVED: [1, 2, 3, 4]]\n"
     ]
    },
    {
     "name": "stderr",
     "output_type": "stream",
     "text": [
      "                                                                                "
     ]
    },
    {
     "name": "stdout",
     "output_type": "stream",
     "text": [
      "✓ Epoch 56 - Train: 0.005590, Val: 0.005642 [SAVED: [0, 2, 3, 4]]\n"
     ]
    },
    {
     "name": "stderr",
     "output_type": "stream",
     "text": [
      "                                                                                "
     ]
    },
    {
     "name": "stdout",
     "output_type": "stream",
     "text": [
      "✓ Epoch 57 - Train: 0.017979, Val: 0.005580 [SAVED: [0, 1, 3, 4]]\n"
     ]
    },
    {
     "name": "stderr",
     "output_type": "stream",
     "text": [
      "                                                                                "
     ]
    },
    {
     "name": "stdout",
     "output_type": "stream",
     "text": [
      "✓ Epoch 58 - Train: 0.022446, Val: 0.005544 [SAVED: [0, 4]]\n"
     ]
    },
    {
     "name": "stderr",
     "output_type": "stream",
     "text": [
      "                                                                                "
     ]
    },
    {
     "name": "stdout",
     "output_type": "stream",
     "text": [
      "✓ Epoch 59 - Train: 0.073062, Val: 0.005514 [SAVED: [0, 2, 3, 4]]\n"
     ]
    },
    {
     "name": "stderr",
     "output_type": "stream",
     "text": [
      "                                                                                "
     ]
    },
    {
     "name": "stdout",
     "output_type": "stream",
     "text": [
      "✓ Epoch 60 - Train: 0.007589, Val: 0.005482 [SAVED: [0, 1, 2, 3]]\n"
     ]
    },
    {
     "name": "stderr",
     "output_type": "stream",
     "text": [
      "                                                                                "
     ]
    },
    {
     "name": "stdout",
     "output_type": "stream",
     "text": [
      "✓ Epoch 61 - Train: 0.005275, Val: 0.005446 [SAVED: [0, 1, 2, 3]]\n"
     ]
    },
    {
     "name": "stderr",
     "output_type": "stream",
     "text": [
      "                                                                                "
     ]
    },
    {
     "name": "stdout",
     "output_type": "stream",
     "text": [
      "✓ Epoch 62 - Train: 0.005223, Val: 0.005400 [SAVED: [0, 2, 3, 4]]\n"
     ]
    },
    {
     "name": "stderr",
     "output_type": "stream",
     "text": [
      "                                                                                "
     ]
    },
    {
     "name": "stdout",
     "output_type": "stream",
     "text": [
      "✓ Epoch 63 - Train: 0.104506, Val: 0.005401 [SAVED: [1, 4]]\n"
     ]
    },
    {
     "name": "stderr",
     "output_type": "stream",
     "text": [
      "                                                                                "
     ]
    },
    {
     "name": "stdout",
     "output_type": "stream",
     "text": [
      "✓ Epoch 64 - Train: 23.165362, Val: 0.005399 [SAVED: [0, 1]]\n"
     ]
    },
    {
     "name": "stderr",
     "output_type": "stream",
     "text": [
      "                                                                                "
     ]
    },
    {
     "name": "stdout",
     "output_type": "stream",
     "text": [
      "✓ Epoch 65 - Train: 0.159100, Val: 0.005345 [SAVED: [1, 3]]\n"
     ]
    },
    {
     "name": "stderr",
     "output_type": "stream",
     "text": [
      "Epoch 66:  12%|███▉                            | 26/212 [00:08<00:54,  3.44it/s]"
     ]
    }
   ],
   "source": [
    "best_val_losses = [float('inf')] * 5\n",
    "patience_counters = [0] * 5\n",
    "MAX_PATIENCE = 25\n",
    "\n",
    "for epoch in range(NUM_EPOCHS):\n",
    "    # Train\n",
    "    for model in models:\n",
    "        model.train()\n",
    "    \n",
    "    train_losses = [0] * 5\n",
    "    \n",
    "    for X_batch, y_batch in tqdm(train_loader, desc=f\"Epoch {epoch+1}\", leave=False):\n",
    "        X_batch = X_batch.to(device)\n",
    "        y_batch = y_batch.to(device)\n",
    "        \n",
    "        for i, (model, optimizer) in enumerate(zip(models, optimizers)):\n",
    "            pred = model(X_batch)\n",
    "            loss = criterion(pred, y_batch)\n",
    "            \n",
    "            optimizer.zero_grad()\n",
    "            loss.backward()\n",
    "            torch.nn.utils.clip_grad_norm_(model.parameters(), 0.5)\n",
    "            optimizer.step()\n",
    "            \n",
    "            train_losses[i] += loss.item()\n",
    "    \n",
    "    train_losses = [tl / len(train_loader) for tl in train_losses]\n",
    "    \n",
    "    # Validate\n",
    "    for model in models:\n",
    "        model.eval()\n",
    "    \n",
    "    val_losses = [0] * 5\n",
    "    \n",
    "    with torch.no_grad():\n",
    "        for X_batch, y_batch in val_loader:\n",
    "            X_batch = X_batch.to(device)\n",
    "            y_batch = y_batch.to(device)\n",
    "            \n",
    "            for i, model in enumerate(models):\n",
    "                pred = model(X_batch)\n",
    "                loss = criterion(pred, y_batch)\n",
    "                val_losses[i] += loss.item()\n",
    "    \n",
    "    val_losses = [vl / len(val_loader) for vl in val_losses]\n",
    "    \n",
    "    # Update schedulers\n",
    "    for i, (scheduler, val_loss) in enumerate(zip(schedulers, val_losses)):\n",
    "        scheduler.step(val_loss)\n",
    "    \n",
    "    # Save best\n",
    "    saved = []\n",
    "    for i, (model, val_loss) in enumerate(zip(models, val_losses)):\n",
    "        if val_loss < best_val_losses[i]:\n",
    "            best_val_losses[i] = val_loss\n",
    "            torch.save(model.state_dict(), f'model_{i}.pth')\n",
    "            patience_counters[i] = 0\n",
    "            saved.append(i)\n",
    "        else:\n",
    "            patience_counters[i] += 1\n",
    "    \n",
    "    avg_train = np.mean(train_losses)\n",
    "    avg_val = np.mean(val_losses)\n",
    "    \n",
    "    if saved:\n",
    "        print(f\"✓ Epoch {epoch+1} - Train: {avg_train:.6f}, Val: {avg_val:.6f} [SAVED: {saved}]\")\n",
    "    elif (epoch+1) % 10 == 0:\n",
    "        print(f\"  Epoch {epoch+1} - Train: {avg_train:.6f}, Val: {avg_val:.6f}\")\n",
    "    \n",
    "    # Early stopping if all models stopped improving\n",
    "    if all(p >= MAX_PATIENCE for p in patience_counters):\n",
    "        print(f\"\\nEarly stop at epoch {epoch+1}\")\n",
    "        break\n",
    "\n",
    "print(f\"\\nBest val losses: {[f'{v:.6f}' for v in best_val_losses]}\")\n",
    "print(f\"Average: {np.mean(best_val_losses):.6f}\")"
   ]
  },
  {
   "cell_type": "markdown",
   "metadata": {},
   "source": [
    "## Ensemble Prediction with TTA"
   ]
  },
  {
   "cell_type": "code",
   "execution_count": null,
   "metadata": {},
   "outputs": [],
   "source": [
    "# Load best models\n",
    "for i, model in enumerate(models):\n",
    "    model.load_state_dict(torch.load(f'model_{i}.pth'))\n",
    "    model.eval()\n",
    "\n",
    "print(\"Predicting with ensemble + TTA...\")\n",
    "\n",
    "def predict_ensemble_tta(models, data_tensor, n_tta=3):\n",
    "    \"\"\"Ensemble + Test Time Augmentation\"\"\"\n",
    "    all_preds = []\n",
    "    data_tensor = data_tensor.to(device)\n",
    "    \n",
    "    with torch.no_grad():\n",
    "        for model in models:\n",
    "            # Original\n",
    "            pred = model(data_tensor).cpu().numpy()\n",
    "            all_preds.append(pred)\n",
    "            \n",
    "            # TTA with small noise\n",
    "            for _ in range(n_tta - 1):\n",
    "                noise = torch.randn_like(data_tensor) * 0.005\n",
    "                pred = model(data_tensor + noise).cpu().numpy()\n",
    "                all_preds.append(pred)\n",
    "    \n",
    "    return np.mean(all_preds, axis=0)\n",
    "\n",
    "test_pred = predict_ensemble_tta(models, test_t, n_tta=3)\n",
    "val_pred = predict_ensemble_tta(models, X_val_t, n_tta=3)\n",
    "\n",
    "print(\"✓ Ensemble + TTA done\")"
   ]
  },
  {
   "cell_type": "markdown",
   "metadata": {},
   "source": [
    "## Calculate NMSE"
   ]
  },
  {
   "cell_type": "code",
   "execution_count": null,
   "metadata": {},
   "outputs": [],
   "source": [
    "mse = np.mean((y_val - val_pred) ** 2)\n",
    "variance = np.var(y_val)\n",
    "nmse = mse / variance\n",
    "\n",
    "print(f\"\\n{'='*70}\")\n",
    "print(f\"VALIDATION NMSE: {nmse:.6f}\")\n",
    "print(f\"Target: < 0.3\")\n",
    "print(f\"{'='*70}\")\n",
    "\n",
    "if nmse < 0.3:\n",
    "    print(f\"🎉 SUCCESS! NMSE < 0.3!\")\n",
    "elif nmse < 0.5:\n",
    "    print(f\"⚠️  Close! NMSE = {nmse:.4f}\")\n",
    "else:\n",
    "    print(f\"❌ NMSE too high: {nmse:.4f}\")\n",
    "\n",
    "print(f\"\\nMSE: {mse:.8f}\")\n",
    "print(f\"Variance: {variance:.8f}\")\n",
    "print(f\"Avg Val Loss: {np.mean(best_val_losses):.6f}\")\n",
    "print(f\"Best individual: {min(best_val_losses):.6f}\")"
   ]
  },
  {
   "cell_type": "markdown",
   "metadata": {},
   "source": [
    "## Save"
   ]
  },
  {
   "cell_type": "code",
   "execution_count": null,
   "metadata": {},
   "outputs": [],
   "source": [
    "submission = pd.DataFrame(test_pred)\n",
    "submission.to_csv('submission.csv', index=False)\n",
    "print(\"\\n✓ Saved: submission.csv\")\n",
    "print(f\"Shape: {submission.shape}\")\n",
    "submission.head()"
   ]
  },
  {
   "cell_type": "markdown",
   "metadata": {},
   "source": [
    "## Visualize"
   ]
  },
  {
   "cell_type": "code",
   "execution_count": null,
   "metadata": {},
   "outputs": [],
   "source": [
    "import matplotlib.pyplot as plt\n",
    "\n",
    "plt.figure(figsize=(12, 4))\n",
    "\n",
    "plt.subplot(1, 2, 1)\n",
    "for i in range(20):\n",
    "    plt.scatter(y_val[:500, i], val_pred[:500, i], alpha=0.5, s=2)\n",
    "plt.plot([y_val.min(), y_val.max()], [y_val.min(), y_val.max()], 'r--', lw=2)\n",
    "plt.xlabel('Actual')\n",
    "plt.ylabel('Predicted')\n",
    "plt.title(f'NMSE={nmse:.4f}')\n",
    "plt.grid(True, alpha=0.3)\n",
    "\n",
    "plt.subplot(1, 2, 2)\n",
    "errors = np.abs(y_val - val_pred)\n",
    "plt.hist(errors.flatten(), bins=100, alpha=0.7, edgecolor='black')\n",
    "plt.xlabel('Absolute Error')\n",
    "plt.ylabel('Frequency')\n",
    "plt.title('Error Distribution')\n",
    "plt.yscale('log')\n",
    "plt.grid(True, alpha=0.3)\n",
    "\n",
    "plt.tight_layout()\n",
    "plt.show()\n",
    "\n",
    "print(f\"\\nFinal NMSE: {nmse:.6f}\")\n",
    "print(f\"MAE: {np.mean(errors):.6f}\")\n",
    "print(f\"Median AE: {np.median(errors):.6f}\")"
   ]
  },
  {
   "cell_type": "markdown",
   "metadata": {},
   "source": [
    "## Summary\n",
    "\n",
    "**v2 OPTIMIZED Improvements:**\n",
    "1. ✅ NO normalization (like v1 - fast learning)\n",
    "2. ✅ 5 models ensemble (more averaging)\n",
    "3. ✅ Deeper network (1024 hidden units)\n",
    "4. ✅ Lower dropout (0.05 vs 0.1)\n",
    "5. ✅ Larger batches (4096)\n",
    "6. ✅ More epochs (120)\n",
    "7. ✅ TTA (3x per model = 15 predictions averaged)\n",
    "8. ✅ ReduceLROnPlateau scheduler\n",
    "\n",
    "**Expected:**\n",
    "- Val Loss: 0.003-0.005 (like v1)\n",
    "- NMSE: 0.20-0.30 (better than v1's 0.66 due to ensemble)"
   ]
  }
 ],
 "metadata": {
  "kernelspec": {
   "display_name": "Python 3 (ipykernel)",
   "language": "python",
   "name": "python3"
  },
  "language_info": {
   "codemirror_mode": {
    "name": "ipython",
    "version": 3
   },
   "file_extension": ".py",
   "mimetype": "text/x-python",
   "name": "python",
   "nbconvert_exporter": "python",
   "pygments_lexer": "ipython3",
   "version": "3.10.16"
  }
 },
 "nbformat": 4,
 "nbformat_minor": 4
}
