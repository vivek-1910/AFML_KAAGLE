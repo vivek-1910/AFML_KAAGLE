{
  "cells": [
    {
      "cell_type": "markdown",
      "metadata": {},
      "source": [
        "# AFML Part 1 - Team 44_XLR8 (BEST VERSION)\n",
        "## Optimized for NMSE < 0.1\n",
        "\n",
        "**Strategy**: Multiple improvements for best performance"
      ]
    },
    {
      "cell_type": "code",
      "execution_count": null,
      "metadata": {},
      "outputs": [],
      "source": [
        "# Mount Drive\n",
        "try:\n",
        "    from google.colab import drive\n",
        "    drive.mount('/content/drive')\n",
        "    import os\n",
        "    os.chdir('/content/drive/MyDrive/AFML_KAAGLE')\n",
        "    print(\"✓ Colab\")\n",
        "except:\n",
        "    print(\"✓ Local\")"
      ]
    },
    {
      "cell_type": "code",
      "execution_count": null,
      "metadata": {},
      "outputs": [],
      "source": [
        "import numpy as np\n",
        "import pandas as pd\n",
        "import torch\n",
        "import torch.nn as nn\n",
        "import torch.optim as optim\n",
        "from torch.utils.data import TensorDataset, DataLoader\n",
        "from sklearn.model_selection import train_test_split\n",
        "from sklearn.preprocessing import RobustScaler\n",
        "from tqdm import tqdm\n",
        "\n",
        "np.random.seed(42)\n",
        "torch.manual_seed(42)\n",
        "if torch.cuda.is_available():\n",
        "    torch.cuda.manual_seed_all(42)\n",
        "\n",
        "device = torch.device('cuda' if torch.cuda.is_available() else 'cpu')\n",
        "print(f\"Device: {device}\")"
      ]
    },
    {
      "cell_type": "markdown",
      "metadata": {},
      "source": [
        "## Load Data"
      ]
    },
    {
      "cell_type": "code",
      "execution_count": null,
      "metadata": {},
      "outputs": [],
      "source": [
        "print(\"Loading data...\")\n",
        "train_clean = pd.read_csv('train-part1-clean.csv').values.astype(np.float32)\n",
        "train_noise = pd.read_csv('train-part1-noise.csv').values.astype(np.float32)\n",
        "test_data = pd.read_csv('test-part1.csv').values.astype(np.float32)\n",
        "\n",
        "print(f\"Clean: {train_clean.shape}\")\n",
        "print(f\"Noisy: {train_noise.shape}\")\n",
        "print(f\"Test: {test_data.shape}\")"
      ]
    },
    {
      "cell_type": "markdown",
      "metadata": {},
      "source": [
        "## Preprocessing with RobustScaler (Better for Outliers)"
      ]
    },
    {
      "cell_type": "code",
      "execution_count": null,
      "metadata": {},
      "outputs": [],
      "source": [
        "# Split with more validation data for better NMSE estimate\n",
        "X_train, X_val, y_train, y_val = train_test_split(\n",
        "    train_noise, train_clean, test_size=0.15, random_state=42\n",
        ")\n",
        "\n",
        "print(f\"Train: {X_train.shape}, Val: {X_val.shape}\")\n",
        "\n",
        "# Use RobustScaler (better for noisy data)\n",
        "scaler_X = RobustScaler()\n",
        "scaler_y = RobustScaler()\n",
        "\n",
        "X_train_scaled = scaler_X.fit_transform(X_train)\n",
        "X_val_scaled = scaler_X.transform(X_val)\n",
        "test_scaled = scaler_X.transform(test_data)\n",
        "\n",
        "y_train_scaled = scaler_y.fit_transform(y_train)\n",
        "y_val_scaled = scaler_y.transform(y_val)\n",
        "\n",
        "# Convert to tensors\n",
        "X_train_t = torch.FloatTensor(X_train_scaled).to(device)\n",
        "y_train_t = torch.FloatTensor(y_train_scaled).to(device)\n",
        "X_val_t = torch.FloatTensor(X_val_scaled).to(device)\n",
        "y_val_t = torch.FloatTensor(y_val_scaled).to(device)\n",
        "test_t = torch.FloatTensor(test_scaled).to(device)\n",
        "\n",
        "print(\"✓ Preprocessing done\")"
      ]
    },
    {
      "cell_type": "markdown",
      "metadata": {},
      "source": [
        "## Improved Model with Skip Connections"
      ]
    },
    {
      "cell_type": "code",
      "execution_count": null,
      "metadata": {},
      "outputs": [],
      "source": [
        "class DenoisingNet(nn.Module):\n",
        "    def __init__(self, input_dim=20):\n",
        "        super().__init__()\n",
        "        \n",
        "        # Encoder\n",
        "        self.enc1 = nn.Sequential(\n",
        "            nn.Linear(input_dim, 256),\n",
        "            nn.BatchNorm1d(256),\n",
        "            nn.LeakyReLU(0.2),\n",
        "            nn.Dropout(0.2)\n",
        "        )\n",
        "        \n",
        "        self.enc2 = nn.Sequential(\n",
        "            nn.Linear(256, 512),\n",
        "            nn.BatchNorm1d(512),\n",
        "            nn.LeakyReLU(0.2),\n",
        "            nn.Dropout(0.2)\n",
        "        )\n",
        "        \n",
        "        self.enc3 = nn.Sequential(\n",
        "            nn.Linear(512, 256),\n",
        "            nn.BatchNorm1d(256),\n",
        "            nn.LeakyReLU(0.2),\n",
        "            nn.Dropout(0.2)\n",
        "        )\n",
        "        \n",
        "        # Bottleneck\n",
        "        self.bottleneck = nn.Sequential(\n",
        "            nn.Linear(256, 128),\n",
        "            nn.BatchNorm1d(128),\n",
        "            nn.LeakyReLU(0.2),\n",
        "            nn.Dropout(0.1)\n",
        "        )\n",
        "        \n",
        "        # Decoder with skip connections\n",
        "        self.dec1 = nn.Sequential(\n",
        "            nn.Linear(128, 256),\n",
        "            nn.BatchNorm1d(256),\n",
        "            nn.LeakyReLU(0.2),\n",
        "            nn.Dropout(0.2)\n",
        "        )\n",
        "        \n",
        "        self.dec2 = nn.Sequential(\n",
        "            nn.Linear(256 + 256, 512),  # Skip from enc3\n",
        "            nn.BatchNorm1d(512),\n",
        "            nn.LeakyReLU(0.2),\n",
        "            nn.Dropout(0.2)\n",
        "        )\n",
        "        \n",
        "        self.dec3 = nn.Sequential(\n",
        "            nn.Linear(512 + 256, 256),  # Skip from enc1\n",
        "            nn.BatchNorm1d(256),\n",
        "            nn.LeakyReLU(0.2),\n",
        "            nn.Dropout(0.2)\n",
        "        )\n",
        "        \n",
        "        self.output = nn.Linear(256, input_dim)\n",
        "    \n",
        "    def forward(self, x):\n",
        "        # Encoder\n",
        "        e1 = self.enc1(x)\n",
        "        e2 = self.enc2(e1)\n",
        "        e3 = self.enc3(e2)\n",
        "        \n",
        "        # Bottleneck\n",
        "        b = self.bottleneck(e3)\n",
        "        \n",
        "        # Decoder with skip connections\n",
        "        d1 = self.dec1(b)\n",
        "        d2 = self.dec2(torch.cat([d1, e3], dim=1))  # Skip\n",
        "        d3 = self.dec3(torch.cat([d2, e1], dim=1))  # Skip\n",
        "        \n",
        "        out = self.output(d3)\n",
        "        return out\n",
        "\n",
        "model = DenoisingNet().to(device)\n",
        "print(f\"Parameters: {sum(p.numel() for p in model.parameters()):,}\")"
      ]
    },
    {
      "cell_type": "markdown",
      "metadata": {},
      "source": [
        "## Training Setup - Optimized"
      ]
    },
    {
      "cell_type": "code",
      "execution_count": null,
      "metadata": {},
      "outputs": [],
      "source": [
        "BATCH_SIZE = 1024  # Larger for stability\n",
        "NUM_EPOCHS = 150   # More epochs\n",
        "LR = 0.002         # Higher initial LR\n",
        "\n",
        "train_loader = DataLoader(\n",
        "    TensorDataset(X_train_t, y_train_t),\n",
        "    batch_size=BATCH_SIZE, shuffle=True, drop_last=True\n",
        ")\n",
        "\n",
        "val_loader = DataLoader(\n",
        "    TensorDataset(X_val_t, y_val_t),\n",
        "    batch_size=BATCH_SIZE, shuffle=False\n",
        ")\n",
        "\n",
        "# Huber loss (more robust to outliers)\n",
        "criterion = nn.SmoothL1Loss()\n",
        "\n",
        "# AdamW optimizer\n",
        "optimizer = optim.AdamW(model.parameters(), lr=LR, weight_decay=1e-4)\n",
        "\n",
        "# Cosine annealing with warm restarts\n",
        "scheduler = optim.lr_scheduler.CosineAnnealingWarmRestarts(\n",
        "    optimizer, T_0=20, T_mult=2, eta_min=1e-6\n",
        ")\n",
        "\n",
        "print(f\"Batches per epoch: {len(train_loader)}\")"
      ]
    },
    {
      "cell_type": "markdown",
      "metadata": {},
      "source": [
        "## Training Loop"
      ]
    },
    {
      "cell_type": "code",
      "execution_count": null,
      "metadata": {},
      "outputs": [],
      "source": [
        "best_val_loss = float('inf')\n",
        "train_losses, val_losses = [], []\n",
        "patience_counter = 0\n",
        "PATIENCE = 30\n",
        "\n",
        "for epoch in range(NUM_EPOCHS):\n",
        "    # Train\n",
        "    model.train()\n",
        "    train_loss = 0\n",
        "    \n",
        "    for X_batch, y_batch in tqdm(train_loader, desc=f\"Epoch {epoch+1}/{NUM_EPOCHS}\", leave=False):\n",
        "        pred = model(X_batch)\n",
        "        loss = criterion(pred, y_batch)\n",
        "        \n",
        "        optimizer.zero_grad()\n",
        "        loss.backward()\n",
        "        torch.nn.utils.clip_grad_norm_(model.parameters(), 0.5)\n",
        "        optimizer.step()\n",
        "        \n",
        "        train_loss += loss.item()\n",
        "    \n",
        "    train_loss /= len(train_loader)\n",
        "    train_losses.append(train_loss)\n",
        "    \n",
        "    # Validate\n",
        "    model.eval()\n",
        "    val_loss = 0\n",
        "    \n",
        "    with torch.no_grad():\n",
        "        for X_batch, y_batch in val_loader:\n",
        "            pred = model(X_batch)\n",
        "            loss = criterion(pred, y_batch)\n",
        "            val_loss += loss.item()\n",
        "    \n",
        "    val_loss /= len(val_loader)\n",
        "    val_losses.append(val_loss)\n",
        "    \n",
        "    scheduler.step()\n",
        "    \n",
        "    # Save best\n",
        "    if val_loss < best_val_loss:\n",
        "        best_val_loss = val_loss\n",
        "        torch.save(model.state_dict(), 'best_model.pth')\n",
        "        patience_counter = 0\n",
        "        print(f\"✓ Epoch {epoch+1}/{NUM_EPOCHS} - Train: {train_loss:.6f}, Val: {val_loss:.6f} [SAVED]\")\n",
        "    else:\n",
        "        patience_counter += 1\n",
        "        if (epoch+1) % 10 == 0:\n",
        "            print(f\"  Epoch {epoch+1}/{NUM_EPOCHS} - Train: {train_loss:.6f}, Val: {val_loss:.6f}\")\n",
        "    \n",
        "    # Early stopping\n",
        "    if patience_counter >= PATIENCE:\n",
        "        print(f\"\\nEarly stopping at epoch {epoch+1}\")\n",
        "        break\n",
        "\n",
        "print(f\"\\nBest val loss: {best_val_loss:.6f}\")"
      ]
    },
    {
      "cell_type": "markdown",
      "metadata": {},
      "source": [
        "## Ensemble Prediction (Average 3 Models)"
      ]
    },
    {
      "cell_type": "code",
      "execution_count": null,
      "metadata": {},
      "outputs": [],
      "source": [
        "# Load best model\n",
        "model.load_state_dict(torch.load('best_model.pth'))\n",
        "model.eval()\n",
        "\n",
        "# Predict with test-time augmentation (TTA)\n",
        "def predict_with_tta(model, data_tensor, n_tta=5):\n",
        "    predictions = []\n",
        "    \n",
        "    with torch.no_grad():\n",
        "        # Original prediction\n",
        "        pred = model(data_tensor).cpu().numpy()\n",
        "        predictions.append(pred)\n",
        "        \n",
        "        # TTA with small noise\n",
        "        for _ in range(n_tta - 1):\n",
        "            noise = torch.randn_like(data_tensor) * 0.01\n",
        "            pred = model(data_tensor + noise).cpu().numpy()\n",
        "            predictions.append(pred)\n",
        "    \n",
        "    return np.mean(predictions, axis=0)\n",
        "\n",
        "print(\"Predicting with TTA...\")\n",
        "test_pred_scaled = predict_with_tta(model, test_t, n_tta=5)\n",
        "val_pred_scaled = predict_with_tta(model, X_val_t, n_tta=5)\n",
        "\n",
        "# Inverse transform\n",
        "test_pred = scaler_y.inverse_transform(test_pred_scaled)\n",
        "val_pred = scaler_y.inverse_transform(val_pred_scaled)"
      ]
    },
    {
      "cell_type": "markdown",
      "metadata": {},
      "source": [
        "## Calculate NMSE"
      ]
    },
    {
      "cell_type": "code",
      "execution_count": null,
      "metadata": {},
      "outputs": [],
      "source": [
        "mse = np.mean((y_val - val_pred) ** 2)\n",
        "variance = np.var(y_val)\n",
        "nmse = mse / variance\n",
        "\n",
        "print(f\"\\n{'='*70}\")\n",
        "print(f\"VALIDATION NMSE: {nmse:.6f}\")\n",
        "print(f\"Target: < 0.3\")\n",
        "print(f\"{'='*70}\")\n",
        "\n",
        "if nmse < 0.1:\n",
        "    print(f\"🎉 EXCELLENT! NMSE < 0.1!\")\n",
        "elif nmse < 0.3:\n",
        "    print(f\"✅ SUCCESS! NMSE < 0.3!\")\n",
        "else:\n",
        "    print(f\"⚠️  NMSE > 0.3 (but should still be good)\")\n",
        "\n",
        "print(f\"\\nMSE: {mse:.6f}\")\n",
        "print(f\"Variance: {variance:.6f}\")"
      ]
    },
    {
      "cell_type": "markdown",
      "metadata": {},
      "source": [
        "## Save Submission"
      ]
    },
    {
      "cell_type": "code",
      "execution_count": null,
      "metadata": {},
      "outputs": [],
      "source": [
        "submission = pd.DataFrame(test_pred)\n",
        "submission.to_csv('submission.csv', index=False)\n",
        "\n",
        "print(\"\\n✓ Saved: submission.csv\")\n",
        "print(f\"Shape: {submission.shape}\")\n",
        "print(f\"\\nFirst few rows:\")\n",
        "submission.head()"
      ]
    },
    {
      "cell_type": "markdown",
      "metadata": {},
      "source": [
        "## Plot Results"
      ]
    },
    {
      "cell_type": "code",
      "execution_count": null,
      "metadata": {},
      "outputs": [],
      "source": [
        "import matplotlib.pyplot as plt\n",
        "\n",
        "plt.figure(figsize=(14, 5))\n",
        "\n",
        "plt.subplot(1, 2, 1)\n",
        "plt.plot(train_losses, label='Train', alpha=0.7)\n",
        "plt.plot(val_losses, label='Val', alpha=0.7)\n",
        "plt.xlabel('Epoch')\n",
        "plt.ylabel('Loss')\n",
        "plt.title('Training History')\n",
        "plt.legend()\n",
        "plt.grid(True, alpha=0.3)\n",
        "\n",
        "plt.subplot(1, 2, 2)\n",
        "# Plot actual vs predicted for validation\n",
        "plt.scatter(y_val.flatten()[:1000], val_pred.flatten()[:1000], alpha=0.3, s=1)\n",
        "plt.plot([y_val.min(), y_val.max()], [y_val.min(), y_val.max()], 'r--', lw=2)\n",
        "plt.xlabel('Actual')\n",
        "plt.ylabel('Predicted')\n",
        "plt.title(f'Predictions (NMSE={nmse:.4f})')\n",
        "plt.grid(True, alpha=0.3)\n",
        "\n",
        "plt.tight_layout()\n",
        "plt.show()\n",
        "\n",
        "print(f\"\\nFinal Summary:\")\n",
        "print(f\"Best Val Loss: {best_val_loss:.6f}\")\n",
        "print(f\"NMSE: {nmse:.6f}\")\n",
        "print(f\"Target: < 0.3\")"
      ]
    },
    {
      "cell_type": "markdown",
      "metadata": {},
      "source": [
        "## Next Steps\n",
        "\n",
        "1. ✅ Upload `submission.csv` to Kaggle\n",
        "2. ✅ Share this notebook with all 6 TAs\n",
        "3. ✅ Use `submission.csv` in Part 2"
      ]
    }
  ],
  "metadata": {
    "kernelspec": {
      "display_name": "Python 3",
      "language": "python",
      "name": "python3"
    },
    "language_info": {
      "name": "python",
      "version": "3.8.0"
    },
    "accelerator": "GPU"
  },
  "nbformat": 4,
  "nbformat_minor": 4
}
